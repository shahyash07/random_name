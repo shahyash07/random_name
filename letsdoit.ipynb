{
  "nbformat": 4,
  "nbformat_minor": 0,
  "metadata": {
    "colab": {
      "name": "letsdoit.ipynb",
      "provenance": [],
      "authorship_tag": "ABX9TyNBvLMYYqgrSDco8k3Og842",
      "include_colab_link": true
    },
    "kernelspec": {
      "name": "python3",
      "display_name": "Python 3"
    },
    "language_info": {
      "name": "python"
    }
  },
  "cells": [
    {
      "cell_type": "markdown",
      "metadata": {
        "id": "view-in-github",
        "colab_type": "text"
      },
      "source": [
        "<a href=\"https://colab.research.google.com/github/shahyash07/random_name/blob/main/letsdoit.ipynb\" target=\"_parent\"><img src=\"https://colab.research.google.com/assets/colab-badge.svg\" alt=\"Open In Colab\"/></a>"
      ]
    },
    {
      "cell_type": "code",
      "metadata": {
        "id": "8A_FtpIY14Wo"
      },
      "source": [
        "!pip install streamlit"
      ],
      "execution_count": null,
      "outputs": []
    },
    {
      "cell_type": "code",
      "metadata": {
        "id": "keeSQ49nOlYv"
      },
      "source": [
        "import streamlit as st \n",
        "import pandas as pd\n",
        "import numpy as np\n",
        "import random"
      ],
      "execution_count": 1,
      "outputs": []
    },
    {
      "cell_type": "code",
      "metadata": {
        "id": "Kc5D-t1lOrSG",
        "colab": {
          "base_uri": "https://localhost:8080/"
        },
        "outputId": "ad4c2e6b-c732-4df8-a30b-e82eef216b4d"
      },
      "source": [
        "name = list(['yash','hiba','Robbie','Ganesh'])\n",
        "# new_list = random.shuffle(name)\n",
        "# new_list = pd.DataFrame(new_list, columns={'new order'})\n",
        "lr = random.sample(name, len(name))\n",
        "lr"
      ],
      "execution_count": 2,
      "outputs": [
        {
          "output_type": "execute_result",
          "data": {
            "text/plain": [
              "['yash', 'Ganesh', 'Robbie', 'hiba']"
            ]
          },
          "metadata": {
            "tags": []
          },
          "execution_count": 2
        }
      ]
    },
    {
      "cell_type": "code",
      "metadata": {
        "colab": {
          "base_uri": "https://localhost:8080/"
        },
        "id": "eM20A8BbtLHb",
        "outputId": "b6eebd22-c71c-43ce-edd5-73c7748ba971"
      },
      "source": [
        "new_li = random.choice(name)\n",
        "name = [n for n in name if n !=new_li]\n",
        "name"
      ],
      "execution_count": 3,
      "outputs": [
        {
          "output_type": "execute_result",
          "data": {
            "text/plain": [
              "['hiba', 'Robbie', 'Ganesh']"
            ]
          },
          "metadata": {
            "tags": []
          },
          "execution_count": 3
        }
      ]
    },
    {
      "cell_type": "code",
      "metadata": {
        "colab": {
          "base_uri": "https://localhost:8080/",
          "height": 173
        },
        "id": "ypp7mPLTiPzk",
        "outputId": "afa58709-978b-4408-eb93-2f10a551ce64"
      },
      "source": [
        "\n",
        "new_list = pd.DataFrame(lr, columns={'new order'})\n",
        "new_list"
      ],
      "execution_count": 4,
      "outputs": [
        {
          "output_type": "execute_result",
          "data": {
            "text/html": [
              "<div>\n",
              "<style scoped>\n",
              "    .dataframe tbody tr th:only-of-type {\n",
              "        vertical-align: middle;\n",
              "    }\n",
              "\n",
              "    .dataframe tbody tr th {\n",
              "        vertical-align: top;\n",
              "    }\n",
              "\n",
              "    .dataframe thead th {\n",
              "        text-align: right;\n",
              "    }\n",
              "</style>\n",
              "<table border=\"1\" class=\"dataframe\">\n",
              "  <thead>\n",
              "    <tr style=\"text-align: right;\">\n",
              "      <th></th>\n",
              "      <th>new order</th>\n",
              "    </tr>\n",
              "  </thead>\n",
              "  <tbody>\n",
              "    <tr>\n",
              "      <th>0</th>\n",
              "      <td>yash</td>\n",
              "    </tr>\n",
              "    <tr>\n",
              "      <th>1</th>\n",
              "      <td>Ganesh</td>\n",
              "    </tr>\n",
              "    <tr>\n",
              "      <th>2</th>\n",
              "      <td>Robbie</td>\n",
              "    </tr>\n",
              "    <tr>\n",
              "      <th>3</th>\n",
              "      <td>hiba</td>\n",
              "    </tr>\n",
              "  </tbody>\n",
              "</table>\n",
              "</div>"
            ],
            "text/plain": [
              "  new order\n",
              "0      yash\n",
              "1    Ganesh\n",
              "2    Robbie\n",
              "3      hiba"
            ]
          },
          "metadata": {
            "tags": []
          },
          "execution_count": 4
        }
      ]
    },
    {
      "cell_type": "code",
      "metadata": {
        "colab": {
          "base_uri": "https://localhost:8080/"
        },
        "id": "ond27ZGthijc",
        "outputId": "d32ba36c-9989-4537-fea8-b280bf2eedcc"
      },
      "source": [
        "na = [1,4,6,7]\n",
        "type(na)"
      ],
      "execution_count": 5,
      "outputs": [
        {
          "output_type": "execute_result",
          "data": {
            "text/plain": [
              "list"
            ]
          },
          "metadata": {
            "tags": []
          },
          "execution_count": 5
        }
      ]
    },
    {
      "cell_type": "code",
      "metadata": {
        "id": "wbMRigo9hU0A",
        "colab": {
          "base_uri": "https://localhost:8080/",
          "height": 173
        },
        "outputId": "d9094e7c-f397-4ebc-b072-4bf925feae7e"
      },
      "source": [
        "new_list"
      ],
      "execution_count": 6,
      "outputs": [
        {
          "output_type": "execute_result",
          "data": {
            "text/html": [
              "<div>\n",
              "<style scoped>\n",
              "    .dataframe tbody tr th:only-of-type {\n",
              "        vertical-align: middle;\n",
              "    }\n",
              "\n",
              "    .dataframe tbody tr th {\n",
              "        vertical-align: top;\n",
              "    }\n",
              "\n",
              "    .dataframe thead th {\n",
              "        text-align: right;\n",
              "    }\n",
              "</style>\n",
              "<table border=\"1\" class=\"dataframe\">\n",
              "  <thead>\n",
              "    <tr style=\"text-align: right;\">\n",
              "      <th></th>\n",
              "      <th>new order</th>\n",
              "    </tr>\n",
              "  </thead>\n",
              "  <tbody>\n",
              "    <tr>\n",
              "      <th>0</th>\n",
              "      <td>yash</td>\n",
              "    </tr>\n",
              "    <tr>\n",
              "      <th>1</th>\n",
              "      <td>Ganesh</td>\n",
              "    </tr>\n",
              "    <tr>\n",
              "      <th>2</th>\n",
              "      <td>Robbie</td>\n",
              "    </tr>\n",
              "    <tr>\n",
              "      <th>3</th>\n",
              "      <td>hiba</td>\n",
              "    </tr>\n",
              "  </tbody>\n",
              "</table>\n",
              "</div>"
            ],
            "text/plain": [
              "  new order\n",
              "0      yash\n",
              "1    Ganesh\n",
              "2    Robbie\n",
              "3      hiba"
            ]
          },
          "metadata": {
            "tags": []
          },
          "execution_count": 6
        }
      ]
    },
    {
      "cell_type": "code",
      "metadata": {
        "colab": {
          "base_uri": "https://localhost:8080/",
          "height": 35
        },
        "id": "PxE3aKbNvyiS",
        "outputId": "e0fa5f95-8e11-4292-e8c6-e10ff361ba8c"
      },
      "source": [
        "p = random.choice(name)\n",
        "p"
      ],
      "execution_count": 7,
      "outputs": [
        {
          "output_type": "execute_result",
          "data": {
            "application/vnd.google.colaboratory.intrinsic+json": {
              "type": "string"
            },
            "text/plain": [
              "'hiba'"
            ]
          },
          "metadata": {
            "tags": []
          },
          "execution_count": 7
        }
      ]
    },
    {
      "cell_type": "code",
      "metadata": {
        "colab": {
          "base_uri": "https://localhost:8080/"
        },
        "id": "Mq3ycUOIv5hI",
        "outputId": "1124300b-a9c6-4f90-c7e0-5d298e4d93a5"
      },
      "source": [
        "name.remove(p)\n",
        "name"
      ],
      "execution_count": 8,
      "outputs": [
        {
          "output_type": "execute_result",
          "data": {
            "text/plain": [
              "['Robbie', 'Ganesh']"
            ]
          },
          "metadata": {
            "tags": []
          },
          "execution_count": 8
        }
      ]
    },
    {
      "cell_type": "code",
      "metadata": {
        "id": "NmgMAaxAjIZj"
      },
      "source": [
        ""
      ],
      "execution_count": 8,
      "outputs": []
    },
    {
      "cell_type": "code",
      "metadata": {
        "colab": {
          "base_uri": "https://localhost:8080/",
          "height": 129
        },
        "id": "jYplw3zPhMJ8",
        "outputId": "36f56767-e7f0-4c5a-aed8-acdd703b92b5"
      },
      "source": [
        "[l in li for l%2==0]"
      ],
      "execution_count": 9,
      "outputs": [
        {
          "output_type": "error",
          "ename": "SyntaxError",
          "evalue": "ignored",
          "traceback": [
            "\u001b[0;36m  File \u001b[0;32m\"<ipython-input-9-b58cfd10412f>\"\u001b[0;36m, line \u001b[0;32m1\u001b[0m\n\u001b[0;31m    [l in li for l%2==0]\u001b[0m\n\u001b[0m                     ^\u001b[0m\n\u001b[0;31mSyntaxError\u001b[0m\u001b[0;31m:\u001b[0m invalid syntax\n"
          ]
        }
      ]
    },
    {
      "cell_type": "code",
      "metadata": {
        "colab": {
          "base_uri": "https://localhost:8080/"
        },
        "id": "3KPZtLsN0u4k",
        "outputId": "8cc7fbd4-3429-4047-f4a6-0e5aae5b4989"
      },
      "source": [
        "!wget https://bin.equinox.io/c/4VmDzA7iaHb/ngrok-stable-linux-amd64.zip"
      ],
      "execution_count": 10,
      "outputs": [
        {
          "output_type": "stream",
          "text": [
            "--2021-04-07 14:38:04--  https://bin.equinox.io/c/4VmDzA7iaHb/ngrok-stable-linux-amd64.zip\n",
            "Resolving bin.equinox.io (bin.equinox.io)... 52.6.49.248, 3.229.173.44, 54.235.108.207, ...\n",
            "Connecting to bin.equinox.io (bin.equinox.io)|52.6.49.248|:443... connected.\n",
            "HTTP request sent, awaiting response... 200 OK\n",
            "Length: 14746350 (14M) [application/octet-stream]\n",
            "Saving to: ‘ngrok-stable-linux-amd64.zip’\n",
            "\n",
            "ngrok-stable-linux- 100%[===================>]  14.06M  54.6MB/s    in 0.3s    \n",
            "\n",
            "2021-04-07 14:38:05 (54.6 MB/s) - ‘ngrok-stable-linux-amd64.zip’ saved [14746350/14746350]\n",
            "\n"
          ],
          "name": "stdout"
        }
      ]
    },
    {
      "cell_type": "code",
      "metadata": {
        "colab": {
          "base_uri": "https://localhost:8080/"
        },
        "id": "_iWN8z6Z2LkU",
        "outputId": "f3b8a409-cf48-4a4c-bac1-4cf3cd445d70"
      },
      "source": [
        "!unzip ngrok-stable-linux-amd64.zip"
      ],
      "execution_count": 11,
      "outputs": [
        {
          "output_type": "stream",
          "text": [
            "Archive:  ngrok-stable-linux-amd64.zip\n",
            "  inflating: ngrok                   \n"
          ],
          "name": "stdout"
        }
      ]
    },
    {
      "cell_type": "code",
      "metadata": {
        "colab": {
          "base_uri": "https://localhost:8080/"
        },
        "id": "zgah5JjhzUhc",
        "outputId": "2af8e20f-12db-4964-e4e2-5134107af26b"
      },
      "source": [
        "%%writefile app.py\n",
        "\n",
        "import streamlit as st\n",
        "import numpy as np\n",
        "import random\n",
        "import pandas as pd\n",
        "name =['yash','hiba','Robbie','Ganesh']\n",
        "\n",
        "def run():\n",
        "  name =['yash','hiba','Robbie','Ganesh']\n",
        "  from PIL import Image\n",
        "  image = Image.open('logo.PNG')\n",
        "  image2 = Image.open('logo3.jpg')\n",
        "\n",
        "  st.image(image,use_column_width=False)\n",
        "  st.header('Institutional Research and Data Governance')\n",
        "  st.subheader(\"Meeting Assistant tool for Host and Order selection\")\n",
        "  \n",
        "  st.sidebar.title('IRDG Meeting Assistant')\n",
        "  st.sidebar.markdown('This application is created to select the meeting order and next host in online meetings')\n",
        "  st.sidebar.image(image2, width=450)\n",
        "  st.sidebar.success(\"Created by: Yash and Robbie\")\n",
        " \n",
        "\n",
        "  # if len(name)== 0:\n",
        "  #   st.success('all names have been selected')\n",
        "  col1, col2 = st.beta_columns(2) \n",
        "  with col1:\n",
        "    if st.button(\"Who's the Host\"):\n",
        "      new_li = random.choice(name)\n",
        "      name = [n for n in name if n !=new_li]\n",
        "      st.success(new_li)\n",
        "  with col2: \n",
        "    if st.button(\"Choose Order\"):\n",
        "      new_list = random.sample(name,len(name))\n",
        "      new_list = pd.DataFrame(new_list, columns={'Order'})\n",
        "      st.dataframe(new_list,width=10000, height=10000)\n",
        "      # name.remove(output)\n",
        "  # name.remove(output)\n",
        "\n",
        "if __name__ == '__main__':\n",
        "    run()"
      ],
      "execution_count": 110,
      "outputs": [
        {
          "output_type": "stream",
          "text": [
            "Overwriting app.py\n"
          ],
          "name": "stdout"
        }
      ]
    },
    {
      "cell_type": "code",
      "metadata": {
        "id": "vcqpLmzP2Q2K"
      },
      "source": [
        "get_ipython().system_raw('./ngrok http 8501 &')"
      ],
      "execution_count": 111,
      "outputs": []
    },
    {
      "cell_type": "code",
      "metadata": {
        "colab": {
          "base_uri": "https://localhost:8080/"
        },
        "id": "WXyZ7oWa2Uch",
        "outputId": "08747494-3b32-49f3-f884-ac7171f41b51"
      },
      "source": [
        "!curl -s http://localhost:4040/api/tunnels | python3 -c \\\n",
        "    'import sys, json; print(\"Execute the next cell and the go to the following URL: \" +json.load(sys.stdin)[\"tunnels\"][0][\"public_url\"])'"
      ],
      "execution_count": 112,
      "outputs": [
        {
          "output_type": "stream",
          "text": [
            "Execute the next cell and the go to the following URL: http://2ef2930cc895.ngrok.io\n"
          ],
          "name": "stdout"
        }
      ]
    },
    {
      "cell_type": "code",
      "metadata": {
        "colab": {
          "base_uri": "https://localhost:8080/"
        },
        "id": "U7hCZ3HP2Xz9",
        "outputId": "3b769714-b06c-4d7f-ee47-7e59f615977e"
      },
      "source": [
        "!streamlit run /content/app.py"
      ],
      "execution_count": 113,
      "outputs": [
        {
          "output_type": "stream",
          "text": [
            "\u001b[0m\n",
            "\u001b[34m\u001b[1m  You can now view your Streamlit app in your browser.\u001b[0m\n",
            "\u001b[0m\n",
            "\u001b[34m  Network URL: \u001b[0m\u001b[1mhttp://172.28.0.2:8501\u001b[0m\n",
            "\u001b[34m  External URL: \u001b[0m\u001b[1mhttp://35.231.32.63:8501\u001b[0m\n",
            "\u001b[0m\n",
            "\u001b[34m  Stopping...\u001b[0m\n",
            "\u001b[34m  Stopping...\u001b[0m\n"
          ],
          "name": "stdout"
        }
      ]
    },
    {
      "cell_type": "code",
      "metadata": {
        "id": "QX5DDQqE2e8j"
      },
      "source": [
        ""
      ],
      "execution_count": 58,
      "outputs": []
    }
  ]
}